{
 "cells": [
  {
   "cell_type": "code",
   "execution_count": 1,
   "metadata": {},
   "outputs": [],
   "source": [
    "import pandas as pd\n",
    "from sklearn.model_selection import train_test_split\n",
    "\n",
    "# Read the data\n",
    "X_full = pd.read_csv('train.csv', index_col='Id')\n",
    "X_test_full = pd.read_csv('test.csv', index_col='Id')\n",
    "\n",
    "# Remove rows with missing target, separate target from predictors\n",
    "X_full.dropna(axis=0, subset=['SalePrice'], inplace=True)\n",
    "y = X_full.SalePrice\n",
    "X_full.drop(['SalePrice'], axis=1, inplace=True)\n",
    "\n",
    "# To keep things simple, we'll use only numerical predictors\n",
    "X = X_full.select_dtypes(exclude=['object'])\n",
    "X_test = X_test_full.select_dtypes(exclude=['object'])\n",
    "\n",
    "# Break off validation set from training data\n",
    "X_train, X_valid, y_train, y_valid = train_test_split(X, y, train_size=0.8, test_size=0.2,\n",
    "                                                      random_state=0)\n"
   ]
  },
  {
   "cell_type": "code",
   "execution_count": 2,
   "metadata": {},
   "outputs": [
    {
     "name": "stdout",
     "output_type": "stream",
     "text": [
      "(1168, 36)\n",
      "LotFrontage    212\n",
      "MasVnrArea       6\n",
      "GarageYrBlt     58\n",
      "dtype: int64\n"
     ]
    }
   ],
   "source": [
    "# Shape of training data (num_rows, num_columns)\n",
    "print(X_train.shape)\n",
    "\n",
    "# Number of missing values in each column of training data\n",
    "missing_val_count_by_column = (X_train.isnull().sum())\n",
    "print(missing_val_count_by_column[missing_val_count_by_column > 0])"
   ]
  },
  {
   "cell_type": "markdown",
   "metadata": {},
   "source": [
    "# Drop columns with missing values"
   ]
  },
  {
   "cell_type": "code",
   "execution_count": 3,
   "metadata": {},
   "outputs": [],
   "source": [
    "# Fill in the line below: get names of columns with missing values\n",
    "missing_val_series = missing_val_count_by_column[missing_val_count_by_column > 0]\n",
    "missing_val_cols = [col for col in X_train if X_train[col].isnull().any()]\n",
    "\n",
    "# Fill in the lines below: drop columns in training and validation data\n",
    "\n",
    "reduced_X_train = X_train.drop(missing_val_cols, axis=1)\n",
    "reduced_X_valid = X_valid.drop(missing_val_cols, axis=1)\n"
   ]
  },
  {
   "cell_type": "markdown",
   "metadata": {},
   "source": [
    "# Imputation"
   ]
  },
  {
   "cell_type": "code",
   "execution_count": 30,
   "metadata": {},
   "outputs": [],
   "source": [
    "from sklearn.impute import SimpleImputer\n",
    "\n",
    "# Fill in the lines below: imputation\n",
    "\n",
    "my_imputer = SimpleImputer(strategy = 'median')\n",
    "imputed_X_train = pd.DataFrame(my_imputer.fit_transform(X_train))\n",
    "imputed_X_valid = pd.DataFrame(my_imputer.transform(X_valid))\n",
    "\n",
    "# Imputation removed column names; put them back\n",
    "imputed_X_train.columns = X_train.columns\n",
    "imputed_X_valid.columns = X_valid.columns\n",
    "\n",
    "from sklearn.impute import SimpleImputer\n"
   ]
  },
  {
   "cell_type": "code",
   "execution_count": 103,
   "metadata": {},
   "outputs": [],
   "source": [
    "from sklearn.ensemble import RandomForestRegressor\n",
    "from sklearn.metrics import mean_absolute_error\n",
    "\n",
    "# Function for comparing different approaches\n",
    "def score_dataset(X_train,X_valid,y_train,y_valid ):\n",
    "    model = RandomForestRegressor(n_estimators=60,min_samples_split=3, random_state=0)\n",
    "    model.fit(final_X_train, y_train)\n",
    "    model.fit(X_train, y_train)\n",
    "    preds = model.predict(X_valid)\n",
    "    return mean_absolute_error(y_valid, preds)"
   ]
  },
  {
   "cell_type": "code",
   "execution_count": 104,
   "metadata": {},
   "outputs": [
    {
     "name": "stdout",
     "output_type": "stream",
     "text": [
      "MAE (Imputation):\n",
      "17671.529191422953\n"
     ]
    }
   ],
   "source": [
    "print(\"MAE (Imputation):\")\n",
    "print(score_dataset(imputed_X_train, imputed_X_valid, y_train, y_valid))"
   ]
  },
  {
   "cell_type": "code",
   "execution_count": 105,
   "metadata": {},
   "outputs": [
    {
     "name": "stdout",
     "output_type": "stream",
     "text": [
      "MAE (Drop columns with missing values):\n",
      "17644.128476480393\n"
     ]
    }
   ],
   "source": [
    "print(\"MAE (Drop columns with missing values):\")\n",
    "print(score_dataset(reduced_X_train, reduced_X_valid, y_train, y_valid))"
   ]
  },
  {
   "cell_type": "code",
   "execution_count": 106,
   "metadata": {},
   "outputs": [
    {
     "name": "stdout",
     "output_type": "stream",
     "text": [
      "MAE (Drop columns with missing values):\n",
      "17671.529191422953\n"
     ]
    }
   ],
   "source": [
    "my_imputer = SimpleImputer(strategy = 'median')\n",
    "final_X_train = pd.DataFrame(my_imputer.fit_transform(X_train))\n",
    "final_X_valid = pd.DataFrame(my_imputer.transform(X_valid))\n",
    "\n",
    "# Define and fit model\n",
    "model = RandomForestRegressor(n_estimators=60,min_samples_split=3, random_state=0)\n",
    "model.fit(final_X_train, y_train)\n",
    "\n",
    "print(\"MAE (Drop columns with missing values):\")\n",
    "print(score_dataset(final_X_train, final_X_valid, y_train, y_valid))"
   ]
  },
  {
   "cell_type": "code",
   "execution_count": 116,
   "metadata": {},
   "outputs": [
    {
     "data": {
      "text/plain": [
       "17886.66654553526"
      ]
     },
     "execution_count": 116,
     "metadata": {},
     "output_type": "execute_result"
    }
   ],
   "source": [
    "lista_colunas = list(X_train.columns)\n",
    "                   \n",
    "final_X_train = pd.DataFrame(my_imputer.fit_transform(X_train),columns=lista_colunas)                \n",
    "final_X_valid = pd.DataFrame(my_imputer.fit_transform(X_valid),columns=lista_colunas)\n",
    "\n",
    "colunas_pouco_imp = ['3SsnPorch','PoolArea','MiscVal']\n",
    "\n",
    "refinal_X_train = final_X_train.drop(colunas_pouco_imp, axis=1)\n",
    "refinal_X_valid = final_X_valid.drop(colunas_pouco_imp, axis=1)\n",
    "\n",
    "model = RandomForestRegressor(n_estimators=60,min_samples_split=3, random_state=0)\n",
    "model.fit(refinal_X_train, y_train)\n",
    "preds = model.predict(refinal_X_valid)\n",
    "mean_absolute_error(y_valid, preds)"
   ]
  },
  {
   "cell_type": "code",
   "execution_count": 108,
   "metadata": {},
   "outputs": [
    {
     "ename": "SyntaxError",
     "evalue": "unexpected EOF while parsing (<ipython-input-108-af9e4b6643a6>, line 2)",
     "output_type": "error",
     "traceback": [
      "\u001b[1;36m  File \u001b[1;32m\"<ipython-input-108-af9e4b6643a6>\"\u001b[1;36m, line \u001b[1;32m2\u001b[0m\n\u001b[1;33m    print(score_dataset(refinal_X_train, refinal_X_valid, y_train, y_valid)\u001b[0m\n\u001b[1;37m                                                                           ^\u001b[0m\n\u001b[1;31mSyntaxError\u001b[0m\u001b[1;31m:\u001b[0m unexpected EOF while parsing\n"
     ]
    }
   ],
   "source": [
    "print(\"MAE (Drop columns with missing values):\")\n",
    "print(score_dataset(refinal_X_train, refinal_X_valid, y_train, y_valid)"
   ]
  },
  {
   "cell_type": "code",
   "execution_count": 117,
   "metadata": {},
   "outputs": [
    {
     "data": {
      "text/plain": [
       "MSSubClass       1459\n",
       "LotFrontage      1232\n",
       "LotArea          1459\n",
       "OverallQual      1459\n",
       "OverallCond      1459\n",
       "YearBuilt        1459\n",
       "YearRemodAdd     1459\n",
       "MasVnrArea        567\n",
       "BsmtFinSF1        996\n",
       "BsmtFinSF2        180\n",
       "BsmtUnfSF        1335\n",
       "TotalBsmtSF      1417\n",
       "1stFlrSF         1459\n",
       "2ndFlrSF          620\n",
       "LowQualFinSF       14\n",
       "GrLivArea        1459\n",
       "BsmtFullBath      608\n",
       "BsmtHalfBath       93\n",
       "FullBath         1456\n",
       "HalfBath          538\n",
       "BedroomAbvGr     1457\n",
       "KitchenAbvGr     1457\n",
       "TotRmsAbvGrd     1459\n",
       "Fireplaces        729\n",
       "GarageYrBlt      1381\n",
       "GarageCars       1382\n",
       "GarageArea       1382\n",
       "WoodDeckSF        697\n",
       "OpenPorchSF       817\n",
       "EnclosedPorch     251\n",
       "3SsnPorch          13\n",
       "ScreenPorch       140\n",
       "PoolArea            6\n",
       "MiscVal            51\n",
       "MoSold           1459\n",
       "YrSold           1459\n",
       "dtype: int64"
      ]
     },
     "execution_count": 117,
     "metadata": {},
     "output_type": "execute_result"
    }
   ],
   "source": [
    "# Vendo quantidade de valores diferentes de 0 por coluna\n",
    "\n",
    "X_test.fillna(0).astype(bool).sum(axis=0)"
   ]
  },
  {
   "cell_type": "code",
   "execution_count": null,
   "metadata": {},
   "outputs": [],
   "source": [
    "set()"
   ]
  }
 ],
 "metadata": {
  "kernelspec": {
   "display_name": "Python 3",
   "language": "python",
   "name": "python3"
  },
  "language_info": {
   "codemirror_mode": {
    "name": "ipython",
    "version": 3
   },
   "file_extension": ".py",
   "mimetype": "text/x-python",
   "name": "python",
   "nbconvert_exporter": "python",
   "pygments_lexer": "ipython3",
   "version": "3.7.3"
  }
 },
 "nbformat": 4,
 "nbformat_minor": 2
}
